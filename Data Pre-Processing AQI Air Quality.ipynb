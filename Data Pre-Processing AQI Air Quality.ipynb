{
 "cells": [
  {
   "cell_type": "code",
   "execution_count": 1,
   "id": "e29ebb43",
   "metadata": {},
   "outputs": [
    {
     "name": "stdout",
     "output_type": "stream",
     "text": [
      "Attributes with the most missing values:\n",
      "Xylene        18109\n",
      "PM10          11140\n",
      "NH3           10328\n",
      "Toluene        8041\n",
      "Benzene        5623\n",
      "AQI            4681\n",
      "AQI_Bucket     4681\n",
      "PM2.5          4598\n",
      "NOx            4185\n",
      "O3             4022\n",
      "SO2            3854\n",
      "NO2            3585\n",
      "NO             3582\n",
      "CO             2059\n",
      "City              0\n",
      "Date              0\n",
      "dtype: int64\n",
      "\n",
      "Cities with 90-100% completeness:\n",
      "City\n",
      "Aizawl                98.910824\n",
      "Amaravati             93.763650\n",
      "Amritsar              92.389592\n",
      "Bengaluru             95.849447\n",
      "Bhopal                97.258451\n",
      "Chandigarh            98.810729\n",
      "Coimbatore            94.001594\n",
      "Delhi                 98.828349\n",
      "Guwahati              99.662887\n",
      "Hyderabad             95.390751\n",
      "Jaipur                98.225383\n",
      "Kochi                 98.480532\n",
      "Kolkata               96.276696\n",
      "Thiruvananthapuram    96.755672\n",
      "dtype: float64\n"
     ]
    }
   ],
   "source": [
    "#Code to cleanse India AQI data\n",
    "import pandas as pd\n",
    "\n",
    "def process_data(file_path): #Function to cleanse data from the csv file. \n",
    "    # Load the original data\n",
    "    original_data = pd.read_csv(file_path)\n",
    "\n",
    "    # Identify attributes with the most missing values. \n",
    "    missing_data = original_data.isnull().sum().sort_values(ascending=False)\n",
    "    print(\"Attributes with the most missing values:\")\n",
    "    print(missing_data)\n",
    "\n",
    "    # Remove \"Xylene\", \"Toluene\", and \"Benzene\" and save to a new file. These compounds are not used in the AQI calculation\n",
    "    data_without_xtb = original_data.drop(columns=['Xylene', 'Toluene', 'Benzene'])\n",
    "    data_without_xtb.to_csv('AQI_Data_First_Cleanse.csv', index=False)\n",
    "\n",
    "    # Calculate completeness of dataset for each city. \n",
    "    city_completeness = data_without_xtb.groupby('City').apply(lambda group: group.notnull().sum().sum() / group.size)\n",
    "    city_completeness_percent = city_completeness * 100\n",
    "\n",
    "    # Identify cities with 90-100% completeness - Select cities that are >90% complete\n",
    "    top_cities = city_completeness_percent[city_completeness_percent >= 90].index\n",
    "\n",
    "    # Print the cities with their completeness percentages - show the results to make decsion \n",
    "    print(\"\\nCities with 90-100% completeness:\")\n",
    "    print(city_completeness_percent[city_completeness_percent >= 90])\n",
    "\n",
    "    # Create a dataset of only the cities with >=90% completeness - only >90% included\n",
    "    data_top_cities = data_without_xtb[data_without_xtb['City'].isin(top_cities)]\n",
    "\n",
    "    # Remove rows with missing 'AQI' and 'AQI_Bucket'- remove any AQI or AQI buckets for training model\n",
    "    data_top_cities = data_top_cities.dropna(subset=['AQI', 'AQI_Bucket'])\n",
    "\n",
    "    # Save the final dataset - this is the dataset to take into WEKA\n",
    "    # consider how I am going to remove outliers from the dataset\n",
    "    data_top_cities.to_csv('Cities_Above_90_Completeness.csv', index=False)\n",
    "\n",
    "# Specify the path to your CSV file\n",
    "file_path = 'city_day.csv'  # please replace with your actual file path\n",
    "\n",
    "# Run the data processing function\n",
    "process_data(file_path)\n"
   ]
  },
  {
   "cell_type": "code",
   "execution_count": null,
   "id": "48996aba",
   "metadata": {},
   "outputs": [],
   "source": []
  }
 ],
 "metadata": {
  "kernelspec": {
   "display_name": "Python 3 (ipykernel)",
   "language": "python",
   "name": "python3"
  },
  "language_info": {
   "codemirror_mode": {
    "name": "ipython",
    "version": 3
   },
   "file_extension": ".py",
   "mimetype": "text/x-python",
   "name": "python",
   "nbconvert_exporter": "python",
   "pygments_lexer": "ipython3",
   "version": "3.9.12"
  }
 },
 "nbformat": 4,
 "nbformat_minor": 5
}
